{
 "cells": [
  {
   "cell_type": "code",
   "execution_count": 17,
   "metadata": {},
   "outputs": [
    {
     "name": "stdout",
     "output_type": "stream",
     "text": [
      "['#: CENTRALITY [PCT]', '', '', '0.0-5.0']\n",
      "['#: CENTRALITY [PCT]', '', '', '5.0-10.0']\n",
      "['#: CENTRALITY [PCT]', '', '', '10.0-20.0']\n",
      "['#: CENTRALITY [PCT]', '', '', '20.0-30.0']\n",
      "['#: Centrality [PCT]', '', '', '1.0']\n",
      "['#: EM contamination [PCT]', '', '', '0']\n",
      "['#: SYS', '', '', 'Centrality', '', '', '', '']\n",
      "['$\\\\eta$', '$\\\\eta$ LOW', '$\\\\eta$ HIGH', '$\\\\mathrm{d}N_{\\\\mathrm{ch}}/\\\\mathrm{d}\\\\eta$', 'stat +', 'stat -', 'sys +', 'sys -']\n",
      "['-3.375', '-3.5', '-3.25', '714.0', '1.0', '-1.0', '32.0', '-32.0']\n",
      "['-3.125', '-3.25', '-3.0', '726.0', '1.0', '-1.0', '33.0', '-33.0']\n",
      "['-2.875', '-3.0', '-2.75', '738.0', '1.0', '-1.0', '33.0', '-33.0']\n",
      "['-2.625', '-2.75', '-2.5', '759.0', '1.0', '-1.0', '34.0', '-34.0']\n",
      "['-2.375', '-2.5', '-2.25', '772.0', '1.0', '-1.0', '35.0', '-35.0']\n",
      "['-2.125', '-2.25', '-2.0', '797.0', '1.0', '-1.0', '36.0', '-36.0']\n",
      "['-1.875', '-2.0', '-1.75', '827.0', '1.0', '-1.0', '26.0', '-26.0']\n",
      "['-1.625', '-1.75', '-1.5', '842.0', '1.0', '-1.0', '31.0', '-31.0']\n",
      "['-1.375', '-1.5', '-1.25', '844.0', '1.0', '-1.0', '28.0', '-28.0']\n",
      "['-1.125', '-1.25', '-1.0', '838.0', '1.0', '-1.0', '25.0', '-25.0']\n",
      "['-0.875', '-1.0', '-0.75', '826.0', '1.0', '-1.0', '22.0', '-22.0']\n",
      "['-0.625', '-0.75', '-0.5', '811.9', '0.5', '-0.5', '20.1', '-20.1']\n",
      "['-0.375', '-0.5', '-0.25', '799.2', '0.5', '-0.5', '18.7', '-18.7']\n",
      "['-0.125', '-0.25', '0.0', '792.4', '0.5', '-0.5', '17.9', '-17.9']\n",
      "['0.125', '0.0', '0.25', '792.4', '0.5', '-0.5', '17.9', '-17.9']\n",
      "['0.375', '0.25', '0.5', '799.2', '0.5', '-0.5', '18.7', '-18.7']\n",
      "['0.625', '0.5', '0.75', '811.9', '0.5', '-0.5', '20.1', '-20.1']\n",
      "['0.875', '0.75', '1.0', '826.0', '1.0', '-1.0', '22.0', '-22.0']\n",
      "['1.125', '1.0', '1.25', '838.0', '1.0', '-1.0', '25.0', '-25.0']\n",
      "['1.375', '1.25', '1.5', '844.0', '1.0', '-1.0', '28.0', '-28.0']\n",
      "['1.625', '1.5', '1.75', '842.0', '1.0', '-1.0', '31.0', '-31.0']\n",
      "['1.875', '1.75', '2.0', '827.0', '1.0', '-1.0', '26.0', '-26.0']\n",
      "['2.125', '2.0', '2.25', '797.0', '1.0', '-1.0', '36.0', '-36.0']\n",
      "['2.375', '2.25', '2.5', '772.0', '1.0', '-1.0', '35.0', '-35.0']\n",
      "['2.625', '2.5', '2.75', '759.0', '1.0', '-1.0', '34.0', '-34.0']\n",
      "['2.875', '2.75', '3.0', '738.0', '1.0', '-1.0', '33.0', '-33.0']\n",
      "['3.125', '3.0', '3.25', '726.0', '1.0', '-1.0', '33.0', '-33.0']\n",
      "['3.375', '3.25', '3.5', '714.0', '1.0', '-1.0', '32.0', '-32.0']\n",
      "['3.625', '3.5', '3.75', '665.0', '1.0', '-1.0', '44.0', '-45.0']\n",
      "['3.875', '3.75', '4.0', '625.4', '0.3', '-0.3', '41.1', '-42.5']\n",
      "['4.125', '4.0', '4.25', '582.6', '0.3', '-0.3', '38.3', '-39.6']\n",
      "['4.375', '4.25', '4.5', '565.5', '0.3', '-0.3', '37.2', '-38.4']\n",
      "['4.625', '4.5', '4.75', '551.4', '0.4', '-0.4', '36.2', '-37.5']\n",
      "['4.875', '4.75', '5.0', '538.0', '1.0', '-1.0', '35.0', '-37.0']\n",
      "['#: CENTRALITY [PCT]', '', '', '30.0-40.0']\n",
      "['#: CENTRALITY [PCT]', '', '', '40.0-50.0']\n",
      "['#: CENTRALITY [PCT]', '', '', '50.0-60.0']\n",
      "['#: CENTRALITY [PCT]', '', '', '60.0-70.0']\n",
      "['#: CENTRALITY [PCT]', '', '', '70.0-80.0']\n",
      "['#: CENTRALITY [PCT]', '', '', '80.0-90.0']\n"
     ]
    }
   ],
   "source": [
    "import csv\n",
    "import numpy as np\n",
    "\n",
    "####\n",
    "####    A SIMPLE SCRIPT TO CONVERT CSV FILES TO TXT.\n",
    "####    USEFUL TO READ HEPDATA\n",
    "####    NOTICE THAT THE SELECTION CRITERION AND THE FILE MIGHT BE ADJUSTED FOR DIFFERENT CSV DATA :(\n",
    "####\n",
    "\n",
    "csvfile = \"../smash-vhlle-hybrid-python_OLDMESS/Exp_data/dN_detaALICE/HEPData-ins1507090-v1-DN_DETARAP.csv\"       #SELECT .CSV FILE TO READ\n",
    "\n",
    "with open(csvfile) as csfile:\n",
    "    x = np.array([])\n",
    "    Dx = np.array([])\n",
    "    y = np.array([])\n",
    "    Dy = np.array([])\n",
    "\n",
    "    spamreader = csv.reader(csfile, delimiter=',')\n",
    "\n",
    "\n",
    "    selection = False\n",
    "    centrality_selection = \"20.0-30.0\"          #HERE GOES A SELECTION CRITERION, E.G. THE CENTRALITY\n",
    "    for row in spamreader:\n",
    "        if row and \"CENTRALITY\" in row[0] and row[-1]== centrality_selection:         \n",
    "            selection = True\n",
    "        elif row and \"CENTRALITY\" in row[0]:\n",
    "            print(row)\n",
    "            selection = False\n",
    "        if row and selection:\n",
    "                print(row)\n",
    "                if str(row[0]).lstrip(\"-\").replace(\".\", \"\", 1).isdigit():       #THE ACTUAL COLUMNS AND HOW TO COMPUTE THE ERRORS MAY CHANGE\n",
    "                     x = np.append(x, float(row[0]))\n",
    "                     Dx = np.append(Dx, 0.5*(float(row[2])-float(row[1])))\n",
    "                     y = np.append(y, float(row[3]))\n",
    "                     Dy = np.append(Dy,0.5*(float(row[5])-float(row[4])))\n",
    "\n",
    "    if(len(x)!=0):\n",
    "        np.savetxt(csvfile.rstrip(\".csv\")+f\"{centrality_selection}.txt\",np.array([x,Dx,y,Dy]).T,delimiter=\"         \",\n",
    "                    header=\"x        Dx      y       Dy\")\n",
    "    if(len(x)==0):\n",
    "        print(\"Reading the data was unsuccessful. The selection criterion is not satisfied.\")\n",
    "        exit(1)"
   ]
  },
  {
   "cell_type": "code",
   "execution_count": null,
   "metadata": {},
   "outputs": [],
   "source": []
  }
 ],
 "metadata": {
  "kernelspec": {
   "display_name": "Python 3",
   "language": "python",
   "name": "python3"
  },
  "language_info": {
   "codemirror_mode": {
    "name": "ipython",
    "version": 3
   },
   "file_extension": ".py",
   "mimetype": "text/x-python",
   "name": "python",
   "nbconvert_exporter": "python",
   "pygments_lexer": "ipython3",
   "version": "3.10.6"
  },
  "orig_nbformat": 4,
  "vscode": {
   "interpreter": {
    "hash": "916dbcbb3f70747c44a77c7bcd40155683ae19c65e1c03b4aa3499c5328201f1"
   }
  }
 },
 "nbformat": 4,
 "nbformat_minor": 2
}
