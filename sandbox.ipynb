{
 "cells": [
  {
   "cell_type": "code",
   "execution_count": 4,
   "metadata": {},
   "outputs": [],
   "source": [
    "params_dict = {\n",
    "\"outputDir\"     :   \"none\",\n",
    "\"eosType\"       :   \"0\",           \n",
    "\"etaS\"          :   \"0.12\",            #  eta/s value\n",
    "\"zetaS\"         :   \"0.0\",             #  zeta/s, bulk viscosity\n",
    "\"e_crit\"        :   \"0.515\",           #  criterion for surface finding\n",
    "\"zetaSparam\"    :   \"3\",               #  0 basic param (is zetaS 0 no bulk), 1,2,3\n",
    "\"nx\"            :   \"101\",             # number of cells in X direction\n",
    "\"ny\"            :   \"101\",             # number of cells in Y direction\n",
    "\"nz\"            :   \"51\",              # number of cells in eta direction\n",
    "\"xmin\"          :   \"-20.0\",           # coordinate of the first cell\n",
    "\"xmax\"          :   \"20.0\",            # coordinate of the last cell\n",
    "\"ymin\"          :   \"-20.0\",\n",
    "\"ymax\"          :   \"20.0\",\n",
    "\"etamin\"        :   \"-10.0\",\n",
    "\"etamax\"        :   \"10.0\",\n",
    "\"icModel\"       :   \"5\",\n",
    "\"glauberVar\"    :   \"1\",       \t      #not used\n",
    "\"icInputFile\"   :   \"none\",\n",
    "\"s0ScaleFactor\" :   \"53.55\",\t      #not used in glissando (glauber + rapidity)\n",
    "\"epsilon0\"      :   \"30.0\",\t      #not used in glissando (glauber)\n",
    "\"impactPar\"     :   \"7.0\",\t      #not used in glissando (glauber)\n",
    "\"alpha\"         :   \"0.0\",             #NEVER used\n",
    "\"tau0\"          :   \"0.6\",  \t      # starting proper time\n",
    "\"tauMax\"        :   \"15.0\",  \t      # proper time to stop hydro\n",
    "\"dtau\"          :   \"0.1\"   \t      # timestep\n",
    "}\n",
    "\n",
    "\n",
    "glissando_dict = {\n",
    "\t\"sNN\"      : \"5020\",\n",
    "\t\"eta0\"     : \"3.7\", #/2.3 // midrapidity plateau\n",
    "  \t\"sigEta\"   : \"1.4\", # diffuseness of rapidity profile\n",
    "  \t\"etaM\"     : \"4.5\",\n",
    "  \t\"ybeam\"    : \"8.585\", # beam rapidity\n",
    "  \t\"alphaMix\" : \"0.15\", # WN/binary mixing\n",
    "  \t\"Rg\"\t   : \"0.4\", # Gaussian smearing in transverse dir\n",
    "  \t\"A\" \t   : \"0.0\",  # 5e-4; // initial shear flow\n",
    "  \t\"neta0\"\t   : \"0.0\" \n",
    "}\n",
    "\n",
    "supermc_dict = {\n",
    "\t\"sNN\"      : \"5020\",\n",
    "\t\"eta0\"     : \"3.5\", # midrapidity plateau\n",
    "  \t\"sigmaeta\" : \"1.4\", # diffuseness of rapidity profile\n",
    "  \t\"w\"\t   : \"0.4\",\n",
    "  \t\"eff\"\t   : \"0.15\" \n",
    "}\n",
    "\n",
    "input_dict = {\n",
    "        \"param\" : \"vhlle param file (-param)\",\n",
    "        \"system\" : \"vhlle collision system (-system)\",\n",
    "        \"icinput\" : \"initial condition file in vhlle (-ISinput)\",\n",
    "        \"outputfolder\" : \"master output folder, base of the path three\",\n",
    "        \"Nevents\" : 100\n",
    "}\n",
    "\n",
    "sampler_config = {\n",
    "        \"surface\"          : \"/path/to/freezeout/surface\",\n",
    "        \"spectra_dir\"      : \" /path/to/output\",\n",
    "        \"number_of_events\" : 100,\n",
    "        \"weakContribution\" : 0,\n",
    "        \"shear\"            : 1,\n",
    "        \"ecrit\"            : 0.5\n",
    "}\n",
    "\n",
    "smash_yaml_config={\n",
    "        'Version': 1.8,\n",
    "        'Logging': {'default': 'INFO'},\n",
    "        'General': {'Modus': 'List',\n",
    "        'Time_Step_Mode': 'None',\n",
    "        'Delta_Time': 0.1,\n",
    "        'End_Time': 30000.0,\n",
    "        'Randomseed': -1,\n",
    "        'Nevents': 100},\n",
    "        'Output': {'Particles': {'Format': ['Binary', 'Oscar2013']}},\n",
    "        'Modi': {'List': {'File_Directory': '../build/',\n",
    "        'File_Prefix': 'sampling',\n",
    "        'Shift_Id': 0}}\n",
    "}\n",
    "\n",
    "dict_list = [params_dict,glissando_dict,supermc_dict, input_dict, sampler_config, smash_yaml_config]"
   ]
  },
  {
   "cell_type": "code",
   "execution_count": 24,
   "metadata": {},
   "outputs": [],
   "source": [
    "def modify_dictionary(dict_name,**kwargs):\n",
    "\tif dict_name == \"params_dict\":\n",
    "\t\tdict_copy = params_dict.copy()\n",
    "\tif dict_name == \"glissando_dict\":\n",
    "\t\tdict_copy = glissando_dict.copy()\n",
    "\tif dict_name == \"supermc_dict\":\n",
    "\t\tdict_copy = supermc_dict.copy()\n",
    "\tif dict_name == \"input_dict\":\n",
    "\t\tdict_copy = input_dict.copy()\n",
    "\tif dict_name == \"sampler_config\":\n",
    "\t\tdict_copy = input_dict.copy()\n",
    "\tif dict_name == \"smash_yaml_config\":\n",
    "\t\tdict_copy = input_dict.copy()\n",
    "\n",
    "\tfor key, value in kwargs.items():\n",
    "\t\tif key in dict_copy.keys():\n",
    "\t\t\tdict_copy[key] = value\n",
    "\t\telse:\n",
    "\t\t\tprint(\"ERROR: the key you want to modify is not in this dictionary!\")\n",
    "\t\t\treturn\n",
    "\t\t\t\n",
    "\treturn dict_copy"
   ]
  },
  {
   "cell_type": "code",
   "execution_count": 23,
   "metadata": {},
   "outputs": [
    {
     "data": {
      "text/plain": [
       "{'sNN': '5020', 'eta0': '2', 'sigmaeta': '1.4', 'w': '0.4', 'eff': '0.15'}"
      ]
     },
     "execution_count": 23,
     "metadata": {},
     "output_type": "execute_result"
    }
   ],
   "source": [
    "dict_modify(\"supermc_dict\",eta0=\"2\")"
   ]
  },
  {
   "cell_type": "code",
   "execution_count": 25,
   "metadata": {},
   "outputs": [],
   "source": [
    "import hybrid_lib as hl\n",
    "import subprocess\n",
    "def get_different_key_value(dictionary1,dictionary2):\n",
    "    name = \"\" \n",
    "    for key, value in dictionary1.items():\n",
    "        if key in dictionary2 and value != dictionary2[key]:\n",
    "            name += key + \"_\" + str(value) + \"_\" \n",
    "    return name"
   ]
  },
  {
   "cell_type": "code",
   "execution_count": 4,
   "metadata": {},
   "outputs": [],
   "source": [
    "def name_folder(prefix=\"\", param=hl.params_dict, gliss=hl.glissando_dict, \n",
    "                    smc=hl.supermc_dict, sampl=hl.sampler_config, smash=hl.smash_yaml_config):\n",
    "    name = \"\"\n",
    "    if(prefix != \"\"):\n",
    "        name += prefix + \"_\"\n",
    "\n",
    "    if param != hl.params_dict:\n",
    "        name += \"params:\"\n",
    "        name += get_different_key_value(param,hl.params_dict)  \n",
    "\n",
    "    if gliss != hl.glissando_dict:\n",
    "        name += \"gliss:\" \n",
    "        name += get_different_key_value(gliss,hl.glissando_dict)\n",
    "        \n",
    "    if smc != hl.supermc_dict:\n",
    "        name += \"superMC:\"\n",
    "        name += get_different_key_value(smc,hl.supermc_dict)\n",
    "\n",
    "    if sampl != hl.sampler_config:\n",
    "        name += \"sampler:\"\n",
    "        name += get_different_key_value(sampl, hl.sampler_config)\n",
    "    \n",
    "    if smash != hl.smash_yaml_config:\n",
    "        name += \"smash:\"\n",
    "        name += get_different_key_value(smash, hl.smash_yaml_config)\n",
    "    \n",
    "    name = name[:-1] #remove the last \"_\"\n",
    "    \n",
    "    return name"
   ]
  },
  {
   "cell_type": "code",
   "execution_count": 28,
   "metadata": {},
   "outputs": [
    {
     "name": "stdout",
     "output_type": "stream",
     "text": [
      "cent20-30_params:etaS_12_e_crit_5_zetaSparam_0_superMC:eta0_40_sigmaeta_11\n",
      "cent20-30_params:etaS_12_e_crit_5_superMC:eta0_40_sigmaeta_11\n",
      "cent20-30_params:etaS_12_e_crit_5_zetaSparam_0_superMC:eta0_40_sigmaeta_14\n",
      "cent20-30_params:etaS_12_e_crit_5_superMC:eta0_40_sigmaeta_14\n",
      "cent20-30_params:etaS_12_e_crit_5_zetaSparam_0_superMC:eta0_40.5_sigmaeta_11\n",
      "cent20-30_params:etaS_12_e_crit_5_superMC:eta0_40.5_sigmaeta_11\n",
      "cent20-30_params:etaS_12_e_crit_5_zetaSparam_0_superMC:eta0_40.5_sigmaeta_14\n",
      "cent20-30_params:etaS_12_e_crit_5_superMC:eta0_40.5_sigmaeta_14\n"
     ]
    }
   ],
   "source": [
    "import hybrid_lib as hl\n",
    "import subprocess\n",
    "\n",
    "def name_path_tree(dict_par,dict,cent):\n",
    "\t# function to name the path tree\n",
    "\tpath_name = \"system\"+ dict[\"sNN\"]+\"centrality\"+cent + \"eta0\" + dict[\"eta0\"] + \"ecrit\" +dict_par[\"e_crit\"] + \"sigeta\" + dict[\"sigmaeta\"] + \"w\" + dict[\"w\"] + \"f\" + dict[\"eff\"]\n",
    "\treturn path_name\n",
    "\n",
    "\n",
    "test_values_etaS = [\"12\"]\n",
    "test_values_ecrit = [\"5\"]\n",
    "test_values_eta0 = [\"40\",\"40.5\"]\n",
    "test_values_sigEta = [\"11\",\"14\"]\n",
    "zeta_params_values = [\"0\",\"3\"]\n",
    "\n",
    "Nevents = 200\n",
    "centrality=\"20-30\"\n",
    "icfile  = \"/home/palermo/superMC/wouded_lhc5020_20-30%.data\"\n",
    "\n",
    "for EtaS in test_values_etaS:\n",
    "\tfor Ecrit in test_values_ecrit:\n",
    "\t\tfor Eta0 in test_values_eta0:\n",
    "\t\t\tfor SEta in test_values_sigEta:\n",
    "\t\t\t\tfor zz in zeta_params_values:\n",
    "\t\t\t\t\tcopy_params = hl.modify_dictionary(\"params_dict\", etaS=EtaS, e_crit=Ecrit,zetaSparam=zz)\n",
    "\t\t\t\t\tcopy_superMC_setup = hl.modify_dictionary(\"supermc_dict\", eta0=Eta0,sigmaeta=SEta)\n",
    "\t\t\t\t\tname_maindir = hl.name_folder(param=copy_params,smc=copy_superMC_setup,prefix=\"cent\"+centrality)\n",
    "\t\t\t\t\tprint(name_maindir)\n",
    "\t\t\t\t# hl.print_dict_to_file(copy_params,path_params_file)\n",
    "\t\t\t\t# hl.print_dict_to_file(copy_superMC_setup,path_supermc_file)\n",
    "\n",
    "\t\t\t\t# hl.run_hybrid(path_params_file,path_supermc_file,icfile,name_maindir)\n",
    "\t\t\t\t# hl.analysis_and_plots(name_maindir,Nevents)                  \n",
    "\t\t\t\t# subprocess.run([\"rm -r \",path_tree[\"hydro\"],path_tree[\"sampler\"],path_tree[\"after\"]])"
   ]
  },
  {
   "cell_type": "code",
   "execution_count": null,
   "metadata": {},
   "outputs": [],
   "source": []
  }
 ],
 "metadata": {
  "kernelspec": {
   "display_name": "Python 3",
   "language": "python",
   "name": "python3"
  },
  "language_info": {
   "codemirror_mode": {
    "name": "ipython",
    "version": 3
   },
   "file_extension": ".py",
   "mimetype": "text/x-python",
   "name": "python",
   "nbconvert_exporter": "python",
   "pygments_lexer": "ipython3",
   "version": "3.10.6"
  },
  "orig_nbformat": 4,
  "vscode": {
   "interpreter": {
    "hash": "916dbcbb3f70747c44a77c7bcd40155683ae19c65e1c03b4aa3499c5328201f1"
   }
  }
 },
 "nbformat": 4,
 "nbformat_minor": 2
}
